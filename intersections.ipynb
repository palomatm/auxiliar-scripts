{
 "cells": [
  {
   "cell_type": "code",
   "execution_count": null,
   "metadata": {},
   "outputs": [
    {
     "name": "stdout",
     "output_type": "stream",
     "text": [
      "> <ipython-input-1-94fd82ba9d6e>(23)intersections()\n",
      "-> m_a = (y_a2 - y_a1)/(x_a2 - x_a1)\n",
      "(Pdb) x_a1\n",
      "1\n",
      "(Pdb) x_a1\n",
      "1\n",
      "(Pdb) x_a2\n",
      "4\n",
      "(Pdb) y_a1\n",
      "2\n",
      "(Pdb) y_a2\n",
      "1\n",
      "(Pdb) x_b1\n",
      "3\n",
      "(Pdb) x_b2\n",
      "6\n",
      "(Pdb) n\n",
      "> <ipython-input-1-94fd82ba9d6e>(24)intersections()\n",
      "-> c_a = y_a1 - m_a*x_a1\n",
      "(Pdb) m_a\n",
      "-0.3333333333333333\n",
      "(Pdb) n\n",
      "> <ipython-input-1-94fd82ba9d6e>(25)intersections()\n",
      "-> m_b = (y_b2 - y_b1)/(x_b2 - x_b1)\n",
      "(Pdb) n\n",
      "> <ipython-input-1-94fd82ba9d6e>(26)intersections()\n",
      "-> c_b = y_b1 - m_b*x_b1\n",
      "(Pdb) n\n",
      "> <ipython-input-1-94fd82ba9d6e>(28)intersections()\n",
      "-> x = (c_b - c_a)/(m_a - m_b)\n",
      "(Pdb) n\n",
      "> <ipython-input-1-94fd82ba9d6e>(29)intersections()\n",
      "-> y = m_a*x + c_a\n",
      "(Pdb) x\n",
      "3.3333333333333335\n",
      "(Pdb) n\n",
      "> <ipython-input-1-94fd82ba9d6e>(31)intersections()\n",
      "-> return x, y\n",
      "(Pdb) m_a\n",
      "-0.3333333333333333\n",
      "(Pdb) c_a\n",
      "2.3333333333333335\n",
      "(Pdb) m_b\n",
      "0.6666666666666666\n",
      "(Pdb) c_b\n",
      "-1.0\n"
     ]
    }
   ],
   "source": [
    "import numpy as np\n",
    "import pdb\n",
    "import pandas as pd\n",
    "\n",
    "#Intersections for two lines whose crossing points to x = x1 and x = x2 are known.\n",
    "#A nomenclature belongs to the first line. B to the second one.\n",
    "#points A = [x_a1 x_a2; y_a(x_a1) y_b(x_a2)] points B = [x_b1 x_b2; y_b(x_b1) y_b(x_b2)]\n",
    "#y_a(x_a1) = m_a*x_a1 + c_a // y_b(x_a1) = m_b*x_a1 + c_b\n",
    "def intersections(A, B):\n",
    "    #x1 and x2 have to be the same for both lines.\n",
    "    \n",
    "    x_a1 = A[0, 0]\n",
    "    x_a2 = A[0, 1]\n",
    "    x_b1 = B[0, 0]\n",
    "    x_b2 = B[0, 1]\n",
    "    y_a1 = A[1, 0]\n",
    "    y_a2 = A[1, 1]\n",
    "    y_b1 = B[1, 0]\n",
    "    y_b2 = B[1, 1]\n",
    "    \n",
    "    m_a = (y_a2 - y_a1)/(x_a2 - x_a1)\n",
    "    c_a = y_a1 - m_a*x_a1\n",
    "    m_b = (y_b2 - y_b1)/(x_b2 - x_b1)\n",
    "    c_b = y_b1 - m_b*x_b1\n",
    "    \n",
    "    x = (c_b - c_a)/(m_a - m_b)\n",
    "    y = m_a*x + c_a\n",
    "\n",
    "    return x, y\n",
    "\n",
    "#matrix_A = np.array([[1, 4], [2, 1]])\n",
    "#matrix_B = np.array([[3, 6], [1, 3]])\n",
    "\n",
    "#x, y = intersections(matrix_A, matrix_B)\n"
   ]
  }
 ],
 "metadata": {
  "kernelspec": {
   "display_name": "Python 3",
   "language": "python",
   "name": "python3"
  },
  "language_info": {
   "codemirror_mode": {
    "name": "ipython",
    "version": 3
   },
   "file_extension": ".py",
   "mimetype": "text/x-python",
   "name": "python",
   "nbconvert_exporter": "python",
   "pygments_lexer": "ipython3",
   "version": "3.7.3"
  },
  "varInspector": {
   "cols": {
    "lenName": 16,
    "lenType": 16,
    "lenVar": 40
   },
   "kernels_config": {
    "python": {
     "delete_cmd_postfix": "",
     "delete_cmd_prefix": "del ",
     "library": "var_list.py",
     "varRefreshCmd": "print(var_dic_list())"
    },
    "r": {
     "delete_cmd_postfix": ") ",
     "delete_cmd_prefix": "rm(",
     "library": "var_list.r",
     "varRefreshCmd": "cat(var_dic_list()) "
    }
   },
   "types_to_exclude": [
    "module",
    "function",
    "builtin_function_or_method",
    "instance",
    "_Feature"
   ],
   "window_display": false
  }
 },
 "nbformat": 4,
 "nbformat_minor": 2
}

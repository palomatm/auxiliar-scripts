{
 "cells": [
  {
   "cell_type": "code",
   "execution_count": 4,
   "metadata": {},
   "outputs": [],
   "source": [
    "import numpy as np\n",
    "import pdb\n",
    "import pandas as pd\n",
    "import pickle\n",
    "import os\n",
    "import sys\n",
    "import csv\n",
    "import time\n",
    "import itertools as it\n",
    "import scipy.io\n",
    "import h5py\n",
    "import random\n",
    "\n",
    "#Assuming same number of samples per user\n",
    "#Retrieves a chunk of consecutive samples starting from a random point in every class\n",
    "\n",
    "def custom_split(X, y, test_size = None, randomize = None):\n",
    "    num_samples = X.shape[0] #rows give the number of samples\n",
    "    num_observ = X.shape[1]\n",
    "    classes = np.unique(y)\n",
    "    classes = classes.astype(int)\n",
    "    num_classes = classes.size\n",
    "    aux = np.where(y == classes[0])\n",
    "    num_samples_user = aux[0].size\n",
    "\n",
    "    if num_samples != y.size:\n",
    "        print('X and y sizes are not coherent')\n",
    "        return [], [], [], []\n",
    "    \n",
    "    if test_size == None:\n",
    "        test_size = 0.2\n",
    "    \n",
    "    if randomize == None:\n",
    "        randomize = True\n",
    "    \n",
    "    X_train = []\n",
    "    y_train = []\n",
    "    X_test = []\n",
    "    y_test = []\n",
    "    indices = []\n",
    "    \n",
    "    for i in np.arange(0, num_classes):\n",
    "        \n",
    "        test_samples_user = round(num_samples_user*test_size)\n",
    "        train_samples_user = num_samples_user - test_samples_user\n",
    "        X_user = X[i*num_samples_user:(i+1)*num_samples_user, :]\n",
    "        y_user = y[i*num_samples_user:(i+1)*num_samples_user]\n",
    "\n",
    "        if randomize == True:\n",
    "            ind = random.sample(range(0, num_samples_user), test_samples_user)    \n",
    "            ind = sorted(ind)\n",
    "        else:\n",
    "            #Create random number to start selected test chunk\n",
    "            start = random.randint(0, num_samples_user-test_samples_user)            \n",
    "            end = start + test_samples_user\n",
    "            ind = np.arange(start, end)\n",
    "            \n",
    "        indices = np.append(indices, ind+i*num_samples_user)\n",
    "\n",
    "    indices = indices.astype(int).tolist()\n",
    "    mask_train = np.ones(num_samples, np.bool)\n",
    "    mask_train[indices] = 0\n",
    "    X_test = X[indices, :]\n",
    "    X_train = X[mask_train, :]\n",
    "    y_test = y[indices]\n",
    "    y_train = y[mask_train]\n",
    "    \n",
    "    return np.asarray(X_train), np.asarray(y_train), np.asarray(X_test), np.asarray(y_test), indices"
   ]
  }
 ],
 "metadata": {
  "kernelspec": {
   "display_name": "Python 3",
   "language": "python",
   "name": "python3"
  },
  "language_info": {
   "codemirror_mode": {
    "name": "ipython",
    "version": 3
   },
   "file_extension": ".py",
   "mimetype": "text/x-python",
   "name": "python",
   "nbconvert_exporter": "python",
   "pygments_lexer": "ipython3",
   "version": "3.7.3"
  },
  "varInspector": {
   "cols": {
    "lenName": 16,
    "lenType": 16,
    "lenVar": 40
   },
   "kernels_config": {
    "python": {
     "delete_cmd_postfix": "",
     "delete_cmd_prefix": "del ",
     "library": "var_list.py",
     "varRefreshCmd": "print(var_dic_list())"
    },
    "r": {
     "delete_cmd_postfix": ") ",
     "delete_cmd_prefix": "rm(",
     "library": "var_list.r",
     "varRefreshCmd": "cat(var_dic_list()) "
    }
   },
   "types_to_exclude": [
    "module",
    "function",
    "builtin_function_or_method",
    "instance",
    "_Feature"
   ],
   "window_display": false
  }
 },
 "nbformat": 4,
 "nbformat_minor": 2
}

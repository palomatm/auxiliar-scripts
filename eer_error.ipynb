{
 "cells": [
  {
   "cell_type": "markdown",
   "metadata": {},
   "source": [
    "Generalization for obtaining the EER from a classifier, its test set and labels.\n",
    "\n",
    "Differs from the eer_scorer.py previously done. It does not include dealing with file names or plots."
   ]
  },
  {
   "cell_type": "code",
   "execution_count": 1,
   "metadata": {},
   "outputs": [],
   "source": [
    "%run fnmr_vs_fmr.ipynb\n",
    "%matplotlib inline\n",
    "import numpy as np\n",
    "import pdb\n",
    "import pandas as pd\n",
    "import os\n",
    "import csv\n",
    "import time\n",
    "import itertools as it\n",
    "import scipy.io\n",
    "import h5py\n",
    "from sklearn.neural_network import MLPClassifier\n",
    "\n",
    "def eer_error(estimator, X, y, mated_dir = None):\n",
    "\n",
    "    classes_train = estimator.classes_\n",
    "    classes_train = classes_train.astype(int)\n",
    "    classes_test = np.unique(y)\n",
    "    classes_test = classes_test.astype(int)\n",
    "    mated = []\n",
    "    nonmated = []\n",
    "    \n",
    "    proba = estimator.predict_proba(X)\n",
    "\n",
    "    for user_train, user_test in it.product(classes_train, classes_test): \n",
    "        proba_user = proba[y == user_test]\n",
    "        mean_proba = np.mean(proba_user[:, user_train.astype(int)-1])\n",
    "        \n",
    "        if mated_dir != None:\n",
    "            to_write = f'{user_train}; {user_test}; {mean_proba}\\n'\n",
    "            mated_name = '{}mated.txt'.format(mated_dir)\n",
    "            nonmated_name = '{}nonmated.txt'.format(mated_dir)\n",
    "\n",
    "        if user_train == user_test: #mated scores \n",
    "            if mated_dir != None:\n",
    "                with open(mated_name, 'at') as mated_file:\n",
    "                    mated_file.write(to_write)\n",
    "            mated = np.append(mated, mean_proba)            \n",
    "        else:\n",
    "            if mated_dir != None:\n",
    "                with open(nonmated_name, 'at') as nonmated_file:\n",
    "                    nonmated_file.write(to_write)\n",
    "            nonmated = np.append(nonmated, mean_proba)\n",
    "\n",
    "    if mated.size < 1 or nonmated.size < 1:\n",
    "        print('mated or non mated are scalars')\n",
    "        return np.nan\n",
    "    else:     \n",
    "        fnmr, fmr, eer, x_eer = fnmr_vs_fmr(np.ravel(mated), np.ravel(nonmated))      \n",
    "    return -eer"
   ]
  }
 ],
 "metadata": {
  "kernelspec": {
   "display_name": "Python 3",
   "language": "python",
   "name": "python3"
  },
  "language_info": {
   "codemirror_mode": {
    "name": "ipython",
    "version": 3
   },
   "file_extension": ".py",
   "mimetype": "text/x-python",
   "name": "python",
   "nbconvert_exporter": "python",
   "pygments_lexer": "ipython3",
   "version": "3.7.3"
  },
  "varInspector": {
   "cols": {
    "lenName": 16,
    "lenType": 16,
    "lenVar": 40
   },
   "kernels_config": {
    "python": {
     "delete_cmd_postfix": "",
     "delete_cmd_prefix": "del ",
     "library": "var_list.py",
     "varRefreshCmd": "print(var_dic_list())"
    },
    "r": {
     "delete_cmd_postfix": ") ",
     "delete_cmd_prefix": "rm(",
     "library": "var_list.r",
     "varRefreshCmd": "cat(var_dic_list()) "
    }
   },
   "types_to_exclude": [
    "module",
    "function",
    "builtin_function_or_method",
    "instance",
    "_Feature"
   ],
   "window_display": false
  }
 },
 "nbformat": 4,
 "nbformat_minor": 2
}
